{
 "cells": [
  {
   "cell_type": "code",
   "execution_count": 1,
   "metadata": {},
   "outputs": [],
   "source": [
    "import cv2\n",
    "import argparse\n",
    "from operator import xor"
   ]
  },
  {
   "cell_type": "code",
   "execution_count": 4,
   "metadata": {},
   "outputs": [],
   "source": [
    "def setup_trackbars(range_filter):\n",
    "    cv2.namedWindow(\"Trackbars\", 0)\n",
    "\n",
    "    for i in [\"MIN\", \"MAX\"]:\n",
    "        v = 0 if i == \"MIN\" else 255\n",
    "\n",
    "        for j in range_filter:\n",
    "            cv2.createTrackbar(\"%s_%s\" % (j, i), \"Trackbars\", v, 255, callback)\n",
    "\n",
    "def get_arguments():\n",
    "    ap = argparse.ArgumentParser()\n",
    "    ap.add_argument('-f', '--filter', required=True,\n",
    "                    help='Range filter. RGB or HSV')\n",
    "    ap.add_argument('-i', '--image', required=False,\n",
    "                    help='Path to the image')\n",
    "    ap.add_argument('-w', '--webcam', required=False,\n",
    "                    help='Use webcam', action='store_true')\n",
    "    ap.add_argument('-p', '--preview', required=False,\n",
    "                    help='Show a preview of the image after applying the mask',\n",
    "                    action='store_true')\n",
    "    args = vars(ap.parse_args())\n",
    "\n",
    "    if not xor(bool(args['image']), bool(args['webcam'])):\n",
    "        ap.error(\"Please specify only one image source\")\n",
    "\n",
    "    if not args['filter'].upper() in ['RGB', 'HSV']:\n",
    "        ap.error(\"Please speciy a correct filter.\")\n",
    "\n",
    "    return args\n",
    "\n",
    "def get_trackbar_values(range_filter):\n",
    "    values = []\n",
    "\n",
    "    for i in [\"MIN\", \"MAX\"]:\n",
    "        for j in range_filter:\n",
    "            v = cv2.getTrackbarPos(\"%s_%s\" % (j, i), \"Trackbars\")\n",
    "            values.append(v)\n",
    "\n",
    "    return values\n",
    "\n"
   ]
  },
  {
   "cell_type": "code",
   "execution_count": 3,
   "metadata": {},
   "outputs": [
    {
     "name": "stderr",
     "output_type": "stream",
     "text": [
      "usage: ipykernel_launcher.py [-h] -f FILTER [-i IMAGE] [-w] [-p]\n",
      "ipykernel_launcher.py: error: Please specify only one image source\n"
     ]
    },
    {
     "ename": "SystemExit",
     "evalue": "2",
     "output_type": "error",
     "traceback": [
      "An exception has occurred, use %tb to see the full traceback.\n",
      "\u001b[1;31mSystemExit\u001b[0m\u001b[1;31m:\u001b[0m 2\n"
     ]
    },
    {
     "name": "stderr",
     "output_type": "stream",
     "text": [
      "C:\\Program Files\\Anaconda3\\lib\\site-packages\\IPython\\core\\interactiveshell.py:3304: UserWarning: To exit: use 'exit', 'quit', or Ctrl-D.\n",
      "  warn(\"To exit: use 'exit', 'quit', or Ctrl-D.\", stacklevel=1)\n"
     ]
    }
   ],
   "source": [
    "def main():\n",
    "    args = get_arguments()\n",
    "\n",
    "    range_filter = args['filter'].upper()\n",
    "\n",
    "    if args['image']:\n",
    "        image = cv2.imread(args['image'])\n",
    "\n",
    "        if range_filter == 'RGB':\n",
    "            frame_to_thresh = image.copy()\n",
    "        else:\n",
    "            frame_to_thresh = cv2.cvtColor(image, cv2.COLOR_BGR2HSV)\n",
    "    else:\n",
    "        camera = cv2.VideoCapture(0)\n",
    "\n",
    "    setup_trackbars(range_filter)\n",
    "\n",
    "    while True:\n",
    "        if args['webcam']:\n",
    "            ret, image = camera.read()\n",
    "\n",
    "            if not ret:\n",
    "                break\n",
    "\n",
    "            if range_filter == 'RGB':\n",
    "                frame_to_thresh = image.copy()\n",
    "            else:\n",
    "                frame_to_thresh = cv2.cvtColor(image, cv2.COLOR_BGR2HSV)\n",
    "\n",
    "        v1_min, v2_min, v3_min, v1_max, v2_max, v3_max = get_trackbar_values(range_filter)\n",
    "\n",
    "        thresh = cv2.inRange(frame_to_thresh, (v1_min, v2_min, v3_min), (v1_max, v2_max, v3_max))\n",
    "\n",
    "        if args['preview']:\n",
    "            preview = cv2.bitwise_and(image, image, mask=thresh)\n",
    "            cv2.imshow(\"Preview\", preview)\n",
    "        else:\n",
    "            cv2.imshow(\"Original\", image)\n",
    "            cv2.imshow(\"Thresh\", thresh)\n",
    "\n",
    "        if cv2.waitKey(1) & 0xFF is ord('q'):\n",
    "            break\n",
    "\n",
    "\n",
    "if __name__ == '__main__':\n",
    "    main()"
   ]
  },
  {
   "cell_type": "code",
   "execution_count": null,
   "metadata": {},
   "outputs": [],
   "source": []
  }
 ],
 "metadata": {
  "kernelspec": {
   "display_name": "Python 3",
   "language": "python",
   "name": "python3"
  },
  "language_info": {
   "codemirror_mode": {
    "name": "ipython",
    "version": 3
   },
   "file_extension": ".py",
   "mimetype": "text/x-python",
   "name": "python",
   "nbconvert_exporter": "python",
   "pygments_lexer": "ipython3",
   "version": "3.7.3"
  }
 },
 "nbformat": 4,
 "nbformat_minor": 2
}
